{
  "nbformat": 4,
  "nbformat_minor": 0,
  "metadata": {
    "colab": {
      "name": "BestFirst.ipynb",
      "provenance": [],
      "collapsed_sections": []
    },
    "kernelspec": {
      "name": "python3",
      "display_name": "Python 3"
    },
    "language_info": {
      "name": "python"
    }
  },
  "cells": [
    {
      "cell_type": "code",
      "source": [
        "from queue import PriorityQueue\n",
        "\n",
        "v=14\n",
        "graph = [[] for i in range(v)]\n",
        "\n",
        "def addedge(x, y, cost):\n",
        "    graph[x].append((y,cost))\n",
        "    graph[y].append((x,cost))\n",
        "\n",
        "def bestFirstSearch(source, target, n):\n",
        "  visited = [False]*n\n",
        "  pq = PriorityQueue()\n",
        "  pq.put((0,source))\n",
        "  visited[source] = True\n",
        "\n",
        "  while pq.empty()==False:\n",
        "    u = pq.get()[1]\n",
        "    print(u, end=\" \")\n",
        "    if(u==target):\n",
        "      break\n",
        "    for v,c in graph[u]:\n",
        "      if(visited[v]==False):\n",
        "        visited[v]=True\n",
        "        pq.put((c,v))\n",
        "  print()\n",
        "\n",
        "addedge(0, 1, 3)\n",
        "addedge(0, 2, 6)\n",
        "addedge(0, 3, 5)\n",
        "addedge(1, 4, 1)\n",
        "addedge(1, 5, 8)\n",
        "addedge(2, 6, 12)\n",
        "addedge(2, 7, 14)\n",
        "addedge(3, 8, 2)\n",
        "addedge(8, 9, 9)\n",
        "addedge(8, 10, 6)\n",
        "addedge(9, 11, 1)\n",
        "addedge(9, 12, 10)\n",
        "addedge(9, 13, 2)\n",
        " \n",
        "source = 0\n",
        "target = 9\n",
        "bestFirstSearch(source, target, v)"
      ],
      "metadata": {
        "colab": {
          "base_uri": "https://localhost:8080/"
        },
        "id": "XHnuXwfcF0m2",
        "outputId": "ace5d7cd-bae0-4b4c-8741-30c68ba7dcf1"
      },
      "execution_count": null,
      "outputs": [
        {
          "output_type": "stream",
          "name": "stdout",
          "text": [
            "0 1 4 3 8 2 10 5 9 \n"
          ]
        }
      ]
    }
  ]
}