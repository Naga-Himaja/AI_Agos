{
  "nbformat": 4,
  "nbformat_minor": 0,
  "metadata": {
    "colab": {
      "name": "Family_Inheritance.ipynb",
      "provenance": []
    },
    "kernelspec": {
      "name": "python3",
      "display_name": "Python 3"
    },
    "language_info": {
      "name": "python"
    }
  },
  "cells": [
    {
      "cell_type": "code",
      "execution_count": null,
      "metadata": {
        "id": "eCz6GuMUD0Ib"
      },
      "outputs": [],
      "source": [
        "from collections import defaultdict\n",
        "\n",
        "class Solution:\n",
        "  def __init__(self, head):\n",
        "    self.family = defaultdict(list)\n",
        "    self.head = head\n",
        "    self.dead = set()\n",
        "\n",
        "  def birth(self, parent, child):\n",
        "    self.family[parent].append(child)\n",
        "\n",
        "  def death(self, name):\n",
        "    self.dead.add(name)\n",
        "  \n",
        "  def inheritance(self):\n",
        "    self.ans = []\n",
        "    self.dfs(self.head)\n",
        "    return self.ans\n",
        "\n",
        "  def dfs(self, head):\n",
        "    if(head not in self.dead):\n",
        "      self.ans.append(head)\n",
        "    for i in self.family[head]:\n",
        "      self.dfs(i)\n",
        "\n",
        "\n"
      ]
    },
    {
      "cell_type": "code",
      "source": [
        "\n",
        "ob = Solution('RamaSwamy')\n",
        "ob.birth('RamaSwamy', 'Murali')\n",
        "ob.birth('RamaSwamy', 'Siva')\n",
        "ob.birth('Murali', 'Sabareesh')\n",
        "ob.birth('Murali', 'Valli')\n",
        "ob.birth('Siva', 'Himaja')\n",
        "ob.birth('Siva', 'Sreenija')\n",
        "ob.birth('Sabareesh', '1')\n",
        "ob.birth('Sabareesh', '2')\n",
        "print(ob.inheritance())\n",
        "ob.death('RamaSwamy')\n",
        "print(ob.inheritance())\n",
        "ob.death('Murali')\n",
        "print(ob.inheritance())"
      ],
      "metadata": {
        "colab": {
          "base_uri": "https://localhost:8080/"
        },
        "id": "x69xEBhDGmO9",
        "outputId": "052021eb-1ee6-496a-e007-c17ea3620340"
      },
      "execution_count": null,
      "outputs": [
        {
          "output_type": "stream",
          "name": "stdout",
          "text": [
            "['RamaSwamy', 'Murali', 'Sabareesh', '1', '2', 'Valli', 'Siva', 'Himaja', 'Sreenija']\n",
            "['Murali', 'Sabareesh', '1', '2', 'Valli', 'Siva', 'Himaja', 'Sreenija']\n",
            "['Sabareesh', '1', '2', 'Valli', 'Siva', 'Himaja', 'Sreenija']\n"
          ]
        }
      ]
    }
  ]
}