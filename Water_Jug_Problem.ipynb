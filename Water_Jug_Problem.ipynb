{
  "nbformat": 4,
  "nbformat_minor": 0,
  "metadata": {
    "colab": {
      "name": "Water_Jug_Problem.ipynb",
      "provenance": [],
      "collapsed_sections": []
    },
    "kernelspec": {
      "name": "python3",
      "display_name": "Python 3"
    },
    "language_info": {
      "name": "python"
    }
  },
  "cells": [
    {
      "cell_type": "code",
      "execution_count": null,
      "metadata": {
        "id": "6g4Mq3Eh-RL3",
        "colab": {
          "base_uri": "https://localhost:8080/"
        },
        "outputId": "7501a8d1-63be-4886-ecf9-f647f19808a0"
      },
      "outputs": [
        {
          "output_type": "stream",
          "name": "stdout",
          "text": [
            "Enter the max capacity of jug 1: 4\n",
            "Enter the max capacity of jug 2: 3\n",
            "Enter the capacity needed: 2\n",
            "Steps: \n",
            "0 0\n",
            "4 0\n",
            "4 3\n",
            "0 3\n",
            "3 0\n",
            "3 3\n",
            "4 2\n",
            "0 2\n",
            "True\n"
          ]
        }
      ],
      "source": [
        "from collections import defaultdict\n",
        "\n",
        "visited = defaultdict(lambda : False)\n",
        "\n",
        "jug1  = int(input(\"Enter the max capacity of jug 1: \"))\n",
        "jug2  = int(input(\"Enter the max capacity of jug 2: \"))\n",
        "aim = int(input(\"Enter the capacity needed: \"))\n",
        "\n",
        "def waterJugSolver(amt1, amt2):\n",
        "  if((amt1==0 and amt2==aim) or (amt1==aim and amt2==0)):\n",
        "    print(amt1,amt2)\n",
        "    return True\n",
        "  if(visited[(amt1, amt2)]) == False:\n",
        "    print(amt1, amt2)\n",
        "    visited[amt1, amt2] = True\n",
        "    return (waterJugSolver(0, amt2) or waterJugSolver(amt1,0) or waterJugSolver(jug1, amt2) or waterJugSolver(amt1, jug2) or waterJugSolver(amt1+min(amt2, jug1-amt1), amt2 - min(amt2, jug1-amt1)) or waterJugSolver(amt1-min(amt1, jug2-amt2), amt2 + min(amt2, jug2-amt2))) \n",
        "  else:\n",
        "    return False\n",
        "\n",
        "print('Steps: ')\n",
        "print(waterJugSolver(0,0))"
      ]
    }
  ]
}