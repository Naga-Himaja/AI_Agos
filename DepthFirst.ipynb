{
  "nbformat": 4,
  "nbformat_minor": 0,
  "metadata": {
    "colab": {
      "name": "DepthFirst.ipynb",
      "provenance": [],
      "collapsed_sections": []
    },
    "kernelspec": {
      "name": "python3",
      "display_name": "Python 3"
    },
    "language_info": {
      "name": "python"
    }
  },
  "cells": [
    {
      "cell_type": "code",
      "execution_count": null,
      "metadata": {
        "colab": {
          "base_uri": "https://localhost:8080/"
        },
        "id": "-DUDdlvDM0A8",
        "outputId": "db9e68c1-ad0e-4f4f-8783-c82f603e37c7"
      },
      "outputs": [
        {
          "output_type": "stream",
          "name": "stdout",
          "text": [
            "5 1 6 8 0 4 3 2 "
          ]
        }
      ],
      "source": [
        "graph = {}\n",
        "visited = set()\n",
        "\n",
        "def addedge(x,y):\n",
        "  if x not in graph.keys():\n",
        "    graph[x] = [y]\n",
        "  else:\n",
        "    graph[x].append(y)\n",
        "  if y not in graph.keys():\n",
        "    graph[y] = [x]\n",
        "  else:\n",
        "    graph[y].append(x)\n",
        "\n",
        "def DFS(visited, graph, start):\n",
        "  if start not in visited:\n",
        "    print(start, end=\" \")\n",
        "    visited.add(start)\n",
        "    for i in graph[start]:\n",
        "      DFS(visited, graph, i)\n",
        "\n",
        "addedge(5, 1)\n",
        "addedge(5, 3)\n",
        "addedge(1, 6)\n",
        "addedge(3, 2)\n",
        "addedge(3, 4)\n",
        "addedge(8, 0)\n",
        "addedge(1, 8)\n",
        "\n",
        "addedge(4, 8)\n",
        "\n",
        " \n",
        "DFS(visited, graph, 5)"
      ]
    }
  ]
}